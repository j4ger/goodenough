{
 "cells": [
  {
   "cell_type": "code",
   "execution_count": 1,
   "id": "c9c563b5-0526-46e1-9966-d258319aabe4",
   "metadata": {},
   "outputs": [],
   "source": [
    "from PIL import Image, ImageOps\n",
    "import pytesseract\n",
    "import cv2 as cv\n",
    "from IPython.display import display\n",
    "import numpy as np\n",
    "from detection import L1_NUMBER, L2_NUMBER, L3_NUMBER, R1_NUMBER, R2_NUMBER, R3_NUMBER\n",
    "from ocr import *"
   ]
  },
  {
   "cell_type": "code",
   "execution_count": null,
   "id": "0b56f08f-21ba-4e27-b710-3649f4fa9d5d",
   "metadata": {},
   "outputs": [],
   "source": [
    "source = Image.open(\"assets/raw/10.png\", \"r\")\n",
    "display(source)"
   ]
  },
  {
   "cell_type": "code",
   "execution_count": null,
   "id": "a98c02a4-25a0-4af9-b4d2-bb7b3278bca5",
   "metadata": {
    "scrolled": true
   },
   "outputs": [],
   "source": [
    "cropped = source.crop((467, 1370, 467 + 67, 1366 + 26))\n",
    "display(cropped)\n",
    "cropped = np.array(cropped)\n",
    "greyscaled = cv.cvtColor(cropped, cv.COLOR_BGR2GRAY)\n",
    "display(Image.fromarray(greyscaled))\n",
    "thresholded = cv.threshold(greyscaled, 170, 255, cv.THRESH_BINARY_INV)[1]\n",
    "display(Image.fromarray(thresholded))"
   ]
  },
  {
   "cell_type": "code",
   "execution_count": null,
   "id": "c9377369-2a89-4145-b33c-416d3bbe76f2",
   "metadata": {},
   "outputs": [],
   "source": [
    "import pytesseract\n",
    "text = pytesseract.image_to_string(thresholded, config=\"-c tessedit_char_whitelist=x0123456789 --psm 7 --oem 0\")\n",
    "print(text)"
   ]
  },
  {
   "cell_type": "code",
   "execution_count": null,
   "id": "03e380b6-3917-4e6a-a48d-e3b2d3bb7848",
   "metadata": {},
   "outputs": [],
   "source": [
    "from ocr import crop_and_ocr\n",
    "def parse_one(image, region, name):\n",
    "    text = crop_and_ocr(image, region, invert=True, allowlist=\"x0123456789\")\n",
    "    if text:\n",
    "        print(f\"{name}: {text}\")\n",
    "    else:\n",
    "        print(f\"no text found at {name}\")\n",
    "        \n",
    "def parse_all(source):\n",
    "    parse_one(source, L1_NUMBER, \"L1\")\n",
    "    parse_one(source, L2_NUMBER, \"L2\")\n",
    "    parse_one(source, L3_NUMBER, \"L3\")\n",
    "    parse_one(source, R1_NUMBER, \"R1\")\n",
    "    parse_one(source, R2_NUMBER, \"R2\")\n",
    "    parse_one(source, R3_NUMBER, \"R3\")"
   ]
  },
  {
   "cell_type": "code",
   "execution_count": null,
   "id": "12bb68a7-41ff-4742-9852-27d702a0f529",
   "metadata": {},
   "outputs": [],
   "source": [
    "for i in range(1, 40):\n",
    "    with Image.open(f\"assets/raw/{i}.png\", \"r\") as img:\n",
    "        display(f\"parsing img {i}\")\n",
    "        display(img)\n",
    "        parse_all(img)"
   ]
  },
  {
   "cell_type": "code",
   "execution_count": null,
   "id": "e416f508-ad1f-4f2d-b3f1-7fe4616df20f",
   "metadata": {},
   "outputs": [],
   "source": [
    "from detection import parse_participants\n",
    "\n",
    "result = parse_participants(source)\n",
    "print(result)"
   ]
  },
  {
   "cell_type": "code",
   "execution_count": null,
   "id": "5b4a6020-a340-4e9c-8633-f0b09d72dc9d",
   "metadata": {},
   "outputs": [],
   "source": [
    "from detection import PARTICIPANTS\n",
    "\n",
    "cropped = source.crop(PARTICIPANTS)\n",
    "display(cropped)"
   ]
  },
  {
   "cell_type": "code",
   "execution_count": null,
   "id": "9fa80624-165d-4522-aeac-4ad3ab376fd0",
   "metadata": {},
   "outputs": [],
   "source": [
    "from detection import model"
   ]
  },
  {
   "cell_type": "code",
   "execution_count": null,
   "id": "debfdc0a-c9e7-405d-a8f4-1b6365474eb8",
   "metadata": {},
   "outputs": [],
   "source": [
    "result = model(cropped)"
   ]
  },
  {
   "cell_type": "code",
   "execution_count": null,
   "id": "81c6c86a-214a-4545-98da-d8203841cdca",
   "metadata": {},
   "outputs": [],
   "source": [
    "for i in result[0].:\n",
    "    print(i)"
   ]
  },
  {
   "cell_type": "code",
   "execution_count": null,
   "id": "3a66cbb5-92bc-4056-ab6c-6aac4052f469",
   "metadata": {},
   "outputs": [],
   "source": [
    "from ocr import RESULT_LABEL\n",
    "from ocr import crop_and_ocr"
   ]
  },
  {
   "cell_type": "code",
   "execution_count": null,
   "id": "c898bbe5-1069-45ac-9395-e22dfcc6adf3",
   "metadata": {},
   "outputs": [],
   "source": [
    "losepage = Image.open(\"assets/raw/right.png\", \"r\")\n",
    "cropped_lose = losepage.crop(RESULT_LABEL)\n",
    "\n",
    "display(cropped_lose)\n",
    "lose = crop_and_ocr(losepage, RESULT_LABEL, invert=True, allowlist=\"LOSEWIN\", oem=1).lower()\n",
    "print(lose)"
   ]
  },
  {
   "cell_type": "code",
   "execution_count": null,
   "id": "eb0cd3e0-64ea-4a78-a620-77acf7dcf3e3",
   "metadata": {},
   "outputs": [],
   "source": [
    "winpage = Image.open(\"assets/raw/left.png\", \"r\")\n",
    "cropped_win = winpage.crop(RESULT_LABEL)\n",
    "\n",
    "display(cropped_win)\n",
    "win = crop_and_ocr(winpage, RESULT_LABEL, invert=True, allowlist=\"LOSEWIN\", oem=1, threshold=160)\n",
    "print(win)"
   ]
  },
  {
   "cell_type": "code",
   "execution_count": null,
   "id": "40806616-e88f-4f11-af4f-351d9a352971",
   "metadata": {},
   "outputs": [],
   "source": [
    "display(cropped_win)\n",
    "cropped = np.array(cropped_win)\n",
    "greyscaled = cv.cvtColor(cropped, cv.COLOR_BGR2GRAY)\n",
    "display(Image.fromarray(greyscaled))\n",
    "thresholded = cv.threshold(greyscaled, 170, 255, cv.THRESH_BINARY_INV)[1]\n",
    "display(Image.fromarray(thresholded))"
   ]
  },
  {
   "cell_type": "code",
   "execution_count": 8,
   "id": "6f3b9dad-a1d7-4063-a384-7f83226ef801",
   "metadata": {},
   "outputs": [
    {
     "data": {
      "image/png": "[encoded data removed]",
      "text/plain": [
       "<PIL.Image.Image image mode=RGBA size=95x35>"
      ]
     },
     "metadata": {},
     "output_type": "display_data"
    },
    {
     "data": {
      "image/jpeg": "[encoded data removed]",
      "image/png": "[encoded data removed]",
      "text/plain": [
       "<PIL.Image.Image image mode=L size=95x35>"
      ]
     },
     "metadata": {},
     "output_type": "display_data"
    },
    {
     "data": {
      "image/jpeg": "[encoded data removed]",
      "image/png": "[encoded data removed]",
      "text/plain": [
       "<PIL.Image.Image image mode=L size=95x35>"
      ]
     },
     "metadata": {},
     "output_type": "display_data"
    },
    {
     "data": {
      "text/plain": [
       "'190: '"
      ]
     },
     "metadata": {},
     "output_type": "display_data"
    },
    {
     "data": {
      "image/jpeg": "[encoded data removed]",
      "image/png": "[encoded data removed]",
      "text/plain": [
       "<PIL.Image.Image image mode=L size=95x35>"
      ]
     },
     "metadata": {},
     "output_type": "display_data"
    },
    {
     "data": {
      "text/plain": [
       "'193: '"
      ]
     },
     "metadata": {},
     "output_type": "display_data"
    },
    {
     "data": {
      "image/jpeg": "[encoded data removed]",
      "image/png": "[encoded data removed]",
      "text/plain": [
       "<PIL.Image.Image image mode=L size=95x35>"
      ]
     },
     "metadata": {},
     "output_type": "display_data"
    },
    {
     "data": {
      "text/plain": [
       "'196: '"
      ]
     },
     "metadata": {},
     "output_type": "display_data"
    },
    {
     "data": {
      "image/jpeg": "[encoded data removed]",
      "image/png": "[encoded data removed]",
      "text/plain": [
       "<PIL.Image.Image image mode=L size=95x35>"
      ]
     },
     "metadata": {},
     "output_type": "display_data"
    },
    {
     "data": {
      "text/plain": [
       "'199: '"
      ]
     },
     "metadata": {},
     "output_type": "display_data"
    },
    {
     "data": {
      "image/jpeg": "[encoded data removed]",
      "image/png": "[encoded data removed]",
      "text/plain": [
       "<PIL.Image.Image image mode=L size=95x35>"
      ]
     },
     "metadata": {},
     "output_type": "display_data"
    },
    {
     "data": {
      "text/plain": [
       "'202: '"
      ]
     },
     "metadata": {},
     "output_type": "display_data"
    },
    {
     "data": {
      "image/jpeg": "[encoded data removed]",
      "image/png": "[encoded data removed]",
      "text/plain": [
       "<PIL.Image.Image image mode=L size=95x35>"
      ]
     },
     "metadata": {},
     "output_type": "display_data"
    },
    {
     "data": {
      "text/plain": [
       "'205: '"
      ]
     },
     "metadata": {},
     "output_type": "display_data"
    },
    {
     "data": {
      "image/jpeg": "[encoded data removed]",
      "image/png": "[encoded data removed]",
      "text/plain": [
       "<PIL.Image.Image image mode=L size=95x35>"
      ]
     },
     "metadata": {},
     "output_type": "display_data"
    },
    {
     "data": {
      "text/plain": [
       "'208: '"
      ]
     },
     "metadata": {},
     "output_type": "display_data"
    },
    {
     "data": {
      "image/jpeg": "[encoded data removed]",
      "image/png": "[encoded data removed]",
      "text/plain": [
       "<PIL.Image.Image image mode=L size=95x35>"
      ]
     },
     "metadata": {},
     "output_type": "display_data"
    },
    {
     "data": {
      "text/plain": [
       "'211: '"
      ]
     },
     "metadata": {},
     "output_type": "display_data"
    },
    {
     "data": {
      "image/jpeg": "[encoded data removed]",
      "image/png": "[encoded data removed]",
      "text/plain": [
       "<PIL.Image.Image image mode=L size=95x35>"
      ]
     },
     "metadata": {},
     "output_type": "display_data"
    },
    {
     "data": {
      "text/plain": [
       "'214: '"
      ]
     },
     "metadata": {},
     "output_type": "display_data"
    },
    {
     "data": {
      "image/jpeg": "[encoded data removed]",
      "image/png": "[encoded data removed]",
      "text/plain": [
       "<PIL.Image.Image image mode=L size=95x35>"
      ]
     },
     "metadata": {},
     "output_type": "display_data"
    },
    {
     "data": {
      "text/plain": [
       "'217: '"
      ]
     },
     "metadata": {},
     "output_type": "display_data"
    }
   ],
   "source": [
    "source = Image.open(\"assets/ui/home2.png\")\n",
    "cropped = source.crop(MODE_LABEL)\n",
    "display(cropped)\n",
    "cropped = np.array(cropped)\n",
    "greyscaled = cv.cvtColor(cropped, cv.COLOR_BGR2GRAY)\n",
    "display(Image.fromarray(greyscaled))\n",
    "for i in range(190, 220, 3):\n",
    "    thresholded = cv.threshold(greyscaled, i, 255, cv.THRESH_BINARY)[1]\n",
    "    display(Image.fromarray(thresholded))\n",
    "    text = crop_and_ocr(source, MODE_LABEL, allowlist=MODE_LABEL_CONTENT, threshold=i, oem=1, chn=True)\n",
    "    display(f\"{i}: {text}\")"
   ]
  },
  {
   "cell_type": "code",
   "execution_count": null,
   "id": "801140d1-beaf-402d-8e10-69fd5c9ae72f",
   "metadata": {},
   "outputs": [],
   "source": [
    "source = Image.open(\"assets/raw/finish1.png\")\n",
    "cropped = source.crop(END_LABEL)\n",
    "display(cropped)\n",
    "cropped = np.array(cropped)\n",
    "greyscaled = cv.cvtColor(cropped, cv.COLOR_BGR2GRAY)\n",
    "display(Image.fromarray(greyscaled))\n",
    "thresholded = cv.threshold(greyscaled, 120, 255, cv.THRESH_BINARY)[1]\n",
    "display(Image.fromarray(thresholded))\n",
    "text = crop_and_ocr(source, END_LABEL, allowlist=\"返回主页\", threshold=120, oem=1, chn=True).replace(\" \",\"\")\n",
    "display(text)"
   ]
  },
  {
   "cell_type": "code",
   "execution_count": null,
   "id": "63e66127-d59a-43c4-8933-3cc70671fd31",
   "metadata": {},
   "outputs": [],
   "source": [
    "source = Image.open(\"assets/raw/home.png\")\n",
    "cropped = source.crop(HOME_LABEL)\n",
    "display(cropped)\n",
    "cropped = np.array(cropped)\n",
    "greyscaled = cv.cvtColor(cropped, cv.COLOR_BGR2GRAY)\n",
    "display(Image.fromarray(greyscaled))\n",
    "thresholded = cv.threshold(greyscaled, 60, 255, cv.THRESH_BINARY)[1]\n",
    "display(Image.fromarray(thresholded))\n",
    "text = crop_and_ocr(source, HOME_LABEL, allowlist=HOME_LABEL_CONTENT, threshold=60, oem=1, chn=True).replace(\" \",\"\")\n",
    "display(text)"
   ]
  },
  {
   "cell_type": "code",
   "execution_count": null,
   "id": "c8621261-30a8-41f0-b1b6-13078cc8d090",
   "metadata": {},
   "outputs": [],
   "source": [
    "source = Image.open(\"assets/raw/home2.png\")\n",
    "cropped = source.crop(MODE_LABEL)\n",
    "display(cropped)\n",
    "cropped = np.array(cropped)\n",
    "greyscaled = cv.cvtColor(cropped, cv.COLOR_BGR2GRAY)\n",
    "display(Image.fromarray(greyscaled))\n",
    "for i in range(100,250,10):\n",
    "    thresholded = cv.threshold(greyscaled, i, 255, cv.THRESH_BINARY)[1]\n",
    "    display(Image.fromarray(thresholded))\n",
    "    text = crop_and_ocr(source, MODE_LABEL, allowlist=MODE_LABEL_CONTENT, threshold=i, oem=1, chn=True).replace(\" \",\"\")\n",
    "    display(f\"thres {i}: {text}\")"
   ]
  },
  {
   "cell_type": "code",
   "execution_count": null,
   "id": "f17dc0e7-b36a-420b-9a86-90ba76a65c67",
   "metadata": {},
   "outputs": [],
   "source": [
    "source = Image.open(\"assets/raw/left.png\")\n",
    "cropped = source.crop(RESULT_LABEL)\n",
    "display(cropped)\n",
    "cropped = np.array(cropped)\n",
    "greyscaled = cv.cvtColor(cropped, cv.COLOR_BGR2GRAY)\n",
    "display(Image.fromarray(greyscaled))\n",
    "for i in range(100,250,10):\n",
    "    thresholded = cv.threshold(greyscaled, i, 255, cv.THRESH_BINARY_INV)[1]\n",
    "    display(Image.fromarray(thresholded))\n",
    "    text = crop_and_ocr(source, RESULT_LABEL, allowlist=RESULT_LABEL_CONTENT, threshold=i, oem=1, invert=True).replace(\" \",\"\")\n",
    "    display(f\"thres {i}: {text}\")"
   ]
  },
  {
   "cell_type": "code",
   "execution_count": null,
   "id": "7beebbab-3023-43c0-b8b9-8187267bbb23",
   "metadata": {},
   "outputs": [],
   "source": [
    "source = Image.open(\"assets/raw/right.png\")\n",
    "cropped = source.crop(RESULT_LABEL)\n",
    "display(cropped)\n",
    "cropped = np.array(cropped)\n",
    "greyscaled = cv.cvtColor(cropped, cv.COLOR_BGR2GRAY)\n",
    "display(Image.fromarray(greyscaled))\n",
    "for i in range(100,250,10):\n",
    "    thresholded = cv.threshold(greyscaled, i, 255, cv.THRESH_BINARY_INV)[1]\n",
    "    display(Image.fromarray(thresholded))\n",
    "    text = crop_and_ocr(source, RESULT_LABEL, allowlist=RESULT_LABEL_CONTENT, threshold=i, oem=1, invert=True).replace(\" \",\"\")\n",
    "    display(f\"thres {i}: {text}\")"
   ]
  },
  {
   "cell_type": "code",
   "execution_count": null,
   "id": "d83953ed-af14-4b63-82dc-90fdda3aa9eb",
   "metadata": {},
   "outputs": [],
   "source": []
  }
 ],
 "metadata": {
  "kernelspec": {
   "display_name": "Python 3 (ipykernel)",
   "language": "python",
   "name": "python3"
  },
  "language_info": {
   "codemirror_mode": {
    "name": "ipython",
    "version": 3
   },
   "file_extension": ".py",
   "mimetype": "text/x-python",
   "name": "python",
   "nbconvert_exporter": "python",
   "pygments_lexer": "ipython3",
   "version": "3.10.17"
  }
 },
 "nbformat": 4,
 "nbformat_minor": 5
}
